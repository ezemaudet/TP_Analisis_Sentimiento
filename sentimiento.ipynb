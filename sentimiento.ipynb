{
  "nbformat": 4,
  "nbformat_minor": 0,
  "metadata": {
    "colab": {
      "provenance": [],
      "authorship_tag": "ABX9TyOC89Iqk6A2JeFe6qE9GRc5",
      "include_colab_link": true
    },
    "kernelspec": {
      "name": "python3",
      "display_name": "Python 3"
    },
    "language_info": {
      "name": "python"
    }
  },
  "cells": [
    {
      "cell_type": "markdown",
      "metadata": {
        "id": "view-in-github",
        "colab_type": "text"
      },
      "source": [
        "<a href=\"https://colab.research.google.com/github/ezemaudet/TP_Analisis_Sentimiento/blob/main/sentimiento.ipynb\" target=\"_parent\"><img src=\"https://colab.research.google.com/assets/colab-badge.svg\" alt=\"Open In Colab\"/></a>"
      ]
    },
    {
      "cell_type": "markdown",
      "source": [
        "**Analisis de Sentimiento**"
      ],
      "metadata": {
        "id": "5x9yhMobqS2D"
      }
    },
    {
      "cell_type": "code",
      "source": [
        "import pandas as pd\n",
        "\n",
        "# 1. Leer el archivo CSV\n",
        "ruta_archivo = \"/content/drive/MyDrive/UBA_Inteligencia_Artificial/TP FIUBA IA/TP FINAL Analisis Sentimiento Call Center/transcripciones.csv\"\n",
        "df = pd.read_csv(ruta_archivo)\n",
        "\n",
        "# 2. Función básica de análisis de sentimiento basada en keywords (puede reemplazarse con modelo NLP)\n",
        "def clasificar_sentimiento(texto):\n",
        "    if pd.isna(texto):\n",
        "        return \"Sin transcripción\"\n",
        "\n",
        "    texto = texto.lower()\n",
        "\n",
        "    if \"quiero hablar con un supervisor\" in texto or \"me quejo\" in texto or \"esto es un desastre\" in texto:\n",
        "        return \"Escalar a un supervisor\"\n",
        "    elif any(palabra in texto for palabra in [\"no me gustó\", \"pésimo\", \"mala atención\", \"reclamo\", \"no resolvieron\"]):\n",
        "        return \"Mala atención\"\n",
        "    elif any(palabra in texto for palabra in [\"está bien\", \"más o menos\", \"normal\", \"ok\"]):\n",
        "        return \"Atención neutra\"\n",
        "    elif any(palabra in texto for palabra in [\"gracias\", \"muy buena atención\", \"excelente\", \"me atendieron bien\"]):\n",
        "        return \"Buena atención\"\n",
        "    else:\n",
        "        return \"Atención neutra\"  # por defecto\n",
        "\n",
        "# 3. Aplicar análisis de sentimiento\n",
        "df['sentimiento'] = df['transcripcion'].apply(clasificar_sentimiento)\n",
        "\n",
        "# 4. Mostrar muestra\n",
        "print(df[['ID', 'uniqueid', 'duracion_segundos', 'transcripcion', 'sentimiento']].head())\n",
        "\n",
        "# 5. Guardar el archivo actualizado\n",
        "df.to_csv(ruta_archivo, index=False)\n",
        "print(\"✅ Archivo actualizado con análisis de sentimiento guardado.\")\n"
      ],
      "metadata": {
        "colab": {
          "base_uri": "https://localhost:8080/"
        },
        "id": "8vwfOS2zqXyh",
        "outputId": "d0212063-0bc6-4bd2-ec01-59cd2d11edde"
      },
      "execution_count": null,
      "outputs": [
        {
          "output_type": "stream",
          "name": "stdout",
          "text": [
            "          ID                                   uniqueid  duracion_segundos  \\\n",
            "0  229719767  cpbx06.vozelia.com.pa-1747398811.12182967               72.0   \n",
            "1  229721670  cpbx06.vozelia.com.pa-1747400612.12188995              141.0   \n",
            "2  229721855  cpbx08.vozelia.com.pa-1747400785.20933996               83.0   \n",
            "\n",
            "                                       transcripcion      sentimiento  \n",
            "0   ya voy bajando, ¿qué pasó? El hielo que está ...  Atención neutra  \n",
            "1   según las partisanas yo meimo te voy a squeez...  Atención neutra  \n",
            "2   ¿Qué no? Hay una misma oportunidad que va a r...  Atención neutra  \n",
            "✅ Archivo actualizado con análisis de sentimiento guardado.\n"
          ]
        }
      ]
    }
  ]
}